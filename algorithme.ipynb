{
 "cells": [
  {
   "cell_type": "code",
   "execution_count": 4,
   "id": "9f60b92f",
   "metadata": {},
   "outputs": [
    {
     "name": "stdout",
     "output_type": "stream",
     "text": [
      "False\n",
      "True\n"
     ]
    }
   ],
   "source": [
    "def binary_search(item_list,item):\n",
    "    first = 0\n",
    "    last = len(item_list)-1\n",
    "    found = False\n",
    "    while( first<=last and not found):\n",
    "        mid = (first + last)//2\n",
    "        if item_list[mid] == item :\n",
    "            found = True\n",
    "        else:\n",
    "            if item < item_list[mid]:\n",
    "                last = mid - 1\n",
    "            else:\n",
    "                first = mid + 1\t\n",
    "    return found\n",
    "\n",
    "print(binary_search([1,2,3,5,8], 6))\n",
    "print(binary_search([1,2,3,5,8], 5))"
   ]
  },
  {
   "cell_type": "code",
   "execution_count": 3,
   "id": "feed0ade",
   "metadata": {},
   "outputs": [
    {
     "name": "stdout",
     "output_type": "stream",
     "text": [
      "81\n"
     ]
    }
   ],
   "source": [
    "def power(a,b):\n",
    "    if b==0:\n",
    "        return 1\n",
    "    elif a==0:\n",
    "        return 0\n",
    "    elif b==1:\n",
    "        return a\n",
    "    else:\n",
    "        return a*power(a,b-1)\n",
    "\n",
    "print(power(3,4))"
   ]
  },
  {
   "cell_type": "code",
   "execution_count": 6,
   "id": "67be9997",
   "metadata": {},
   "outputs": [
    {
     "name": "stdout",
     "output_type": "stream",
     "text": [
      "[13, 22, 29, 29, 37, 46, 49, 52, 56, 71]\n"
     ]
    }
   ],
   "source": [
    "def bubbleSort(slist):\n",
    "    for n in range(len(slist)-1,0,-1):\n",
    "        for i in range(n):\n",
    "            if slist[i]>slist[i+1]:\n",
    "                t = slist[i]\n",
    "                slist[i] = slist[i+1]\n",
    "                slist[i+1] = t\n",
    "\n",
    "slist = [29,13,22,29,37,52,49,46,71,56]\n",
    "bubbleSort(slist)\n",
    "print(slist)"
   ]
  },
  {
   "cell_type": "code",
   "execution_count": 9,
   "id": "29c9218a",
   "metadata": {},
   "outputs": [
    {
     "name": "stdout",
     "output_type": "stream",
     "text": [
      "Splitting  [29, 13, 22, 29, 37, 52, 49, 46, 71, 56]\n",
      "Splitting  [29, 13, 22, 29, 37]\n",
      "Splitting  [29, 13]\n",
      "Splitting  [29]\n",
      "Merging  [29]\n",
      "Splitting  [13]\n",
      "Merging  [13]\n",
      "Merging  [13, 29]\n",
      "Splitting  [22, 29, 37]\n",
      "Splitting  [22]\n",
      "Merging  [22]\n",
      "Splitting  [29, 37]\n",
      "Splitting  [29]\n",
      "Merging  [29]\n",
      "Splitting  [37]\n",
      "Merging  [37]\n",
      "Merging  [37, 37]\n",
      "Merging  [37, 37, 37]\n",
      "Merging  [37, 37, 37, 29, 37]\n",
      "Splitting  [52, 49, 46, 71, 56]\n",
      "Splitting  [52, 49]\n",
      "Splitting  [52]\n",
      "Merging  [52]\n",
      "Splitting  [49]\n",
      "Merging  [49]\n",
      "Merging  [49, 52]\n",
      "Splitting  [46, 71, 56]\n",
      "Splitting  [46]\n",
      "Merging  [46]\n",
      "Splitting  [71, 56]\n",
      "Splitting  [71]\n",
      "Merging  [71]\n",
      "Splitting  [56]\n",
      "Merging  [56]\n",
      "Merging  [56, 71]\n",
      "Merging  [56, 71, 56]\n",
      "Merging  [56, 71, 56, 71, 56]\n",
      "Merging  [56, 71, 56, 71, 56, 52, 49, 46, 71, 56]\n",
      "[56, 71, 56, 71, 56, 52, 49, 46, 71, 56]\n"
     ]
    }
   ],
   "source": [
    "def mergeSort(mylist):\n",
    "    print(\"Splitting \",mylist)\n",
    "    if len(mylist)>1:\n",
    "        mid = len(mylist)//2\n",
    "        left = mylist[:mid]\n",
    "        right = mylist[mid:]\n",
    "\n",
    "        mergeSort(left)\n",
    "        mergeSort(right)\n",
    "        i=j=k=0     \n",
    "        while i < len(left) and j < len(right):\n",
    "            if left[i] < right[j]:\n",
    "                mylist[k]=left[i]\n",
    "                i=i+1\n",
    "            else:\n",
    "                mylist[k]=right[j]\n",
    "                j=j+1\n",
    "                k=k+1\n",
    "\n",
    "        while i < len(left):\n",
    "            mylist[k]=left[i]\n",
    "            i=i+1\n",
    "            k=k+1\n",
    "\n",
    "        while j < len(right):\n",
    "            mylist[k]=right[j]\n",
    "            j=j+1\n",
    "            k=k+1\n",
    "    print(\"Merging \",mylist)\n",
    "\n",
    "mylist = [29,13,22,29,37,52,49,46,71,56]\n",
    "mergeSort(mylist)\n",
    "print(mylist)"
   ]
  },
  {
   "cell_type": "code",
   "execution_count": 29,
   "id": "339ea271",
   "metadata": {},
   "outputs": [
    {
     "ename": "IndentationError",
     "evalue": "unindent does not match any outer indentation level (<tokenize>, line 9)",
     "output_type": "error",
     "traceback": [
      "\u001b[1;36m  File \u001b[1;32m\"<tokenize>\"\u001b[1;36m, line \u001b[1;32m9\u001b[0m\n\u001b[1;33m    while low <= high and array[low] <= pivot:\u001b[0m\n\u001b[1;37m    ^\u001b[0m\n\u001b[1;31mIndentationError\u001b[0m\u001b[1;31m:\u001b[0m unindent does not match any outer indentation level\n"
     ]
    }
   ],
   "source": [
    "def partition(array, start, end):\n",
    "    pivot = array[start]\n",
    "    low = start + 1\n",
    "    high = end\n",
    "    while True:\n",
    "         while low <= high and array[high] >= pivot:\n",
    "            high = high - 1\n",
    "\n",
    "        while low <= high and array[low] <= pivot:\n",
    "            low = low + 1\n",
    "\n",
    "        if low <= high:\n",
    "            array[low], array[high] = array[high], array[low]\n",
    "            \n",
    "        else:\n",
    "           \n",
    "            break\n",
    "\n",
    "    array[start], array[high] = array[high], array[start]\n",
    "\n",
    "    return high\n",
    "\n",
    "def quick_sort(array, start, end):\n",
    "    if start >= end:\n",
    "        return\n",
    "\n",
    "    p = partition(array, start, end)\n",
    "    quick_sort(array, start, p-1)\n",
    "    quick_sort(array, p+1, end)\n",
    "\n",
    "    array = [29,13,22,37,52,49,46,71,56]\n",
    "    quick_sort(array, 0, len(array) - 1)\n",
    "    print (array)\n"
   ]
  },
  {
   "cell_type": "code",
   "execution_count": null,
   "id": "aab07ce0",
   "metadata": {},
   "outputs": [],
   "source": []
  }
 ],
 "metadata": {
  "kernelspec": {
   "display_name": "Python 3 (ipykernel)",
   "language": "python",
   "name": "python3"
  },
  "language_info": {
   "codemirror_mode": {
    "name": "ipython",
    "version": 3
   },
   "file_extension": ".py",
   "mimetype": "text/x-python",
   "name": "python",
   "nbconvert_exporter": "python",
   "pygments_lexer": "ipython3",
   "version": "3.9.7"
  }
 },
 "nbformat": 4,
 "nbformat_minor": 5
}
